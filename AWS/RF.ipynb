{
 "cells": [
  {
   "cell_type": "markdown",
   "metadata": {},
   "source": [
    "# Develop, Train, Optimize and Deploy Scikit-Learn Random Forest\n"
   ]
  },
  {
   "cell_type": "markdown",
   "metadata": {},
   "source": [
    "* Doc https://sagemaker.readthedocs.io/en/stable/using_sklearn.html\n",
    "* SDK https://sagemaker.readthedocs.io/en/stable/sagemaker.sklearn.html\n",
    "* boto3 https://boto3.amazonaws.com/v1/documentation/api/latest/reference/services/sagemaker.html#client\n",
    "\n",
    "In this notebook we show how to use Amazon SageMaker to develop, train, tune and deploy a Scikit-Learn based ML model (Random Forest). More info on Scikit-Learn can be found here https://scikit-learn.org/stable/index.html. "
   ]
  },
  {
   "cell_type": "code",
   "execution_count": 33,
   "metadata": {},
   "outputs": [
    {
     "name": "stdout",
     "output_type": "stream",
     "text": [
      "Using bucket sagemaker-us-east-1-630508781792\n"
     ]
    }
   ],
   "source": [
    "import datetime\n",
    "import time\n",
    "import tarfile\n",
    "\n",
    "import boto3\n",
    "import pandas as pd\n",
    "import numpy as np\n",
    "from sagemaker import get_execution_role\n",
    "import sagemaker\n",
    "from sklearn.model_selection import train_test_split\n",
    "from sklearn.datasets import fetch_california_housing\n",
    "\n",
    "\n",
    "sm_boto3 = boto3.client(\"sagemaker\")\n",
    "\n",
    "sess = sagemaker.Session()\n",
    "\n",
    "region = sess.boto_session.region_name\n",
    "\n",
    "bucket = sess.default_bucket()  # this could also be a hard-coded bucket name\n",
    "\n",
    "print(\"Using bucket \" + bucket)"
   ]
  },
  {
   "cell_type": "markdown",
   "metadata": {},
   "source": [
    "## Prepare data\n",
    "We load a dataset from sklearn, split it and send it to S3"
   ]
  },
  {
   "cell_type": "code",
   "execution_count": 34,
   "metadata": {},
   "outputs": [
    {
     "name": "stdout",
     "output_type": "stream",
     "text": [
      "Target column: IS_WARN\n",
      "Features (23): CANCEL_NO_CONTACT IS_DIGITAL AUM_AMT YEARLYINCOMELEVEL TX_COUNT TX_SUM TX_MEAN TX_STD TX_MAX TX_MIN AVG_PB_BAL MAX_PB_BAL MIN_PB_BAL MODE_TX_TIME UNIQUE_CHANNELS UNIQUE_TRN_CODES SUM_MB_CHECK SUM_EB_CHECK FLAG_SAME_IP FLAG_SAME_UUID IS_WEEKEND ACCOUNT_AGE AGE\n",
      "Train data uploaded to: s3://sagemaker-us-east-1-630508781792/sagemaker/sklearn-combined-data/combined_data_train.csv\n",
      "Test data uploaded to: s3://sagemaker-us-east-1-630508781792/sagemaker/sklearn-combined-data/combined_data_test.csv\n"
     ]
    }
   ],
   "source": [
    "# Load the uploaded dataset\n",
    "data_df = pd.read_csv('training.csv') # update with your own dataset name\n",
    "data_df = data_df.drop('ACCT_NBR',axis=1) # if you do not have this, remove it\n",
    "# Define target and features\n",
    "target_col = 'IS_WARN' # update if needed\n",
    "X = data_df.drop(target_col, axis=1)\n",
    "y = data_df[target_col]\n",
    "\n",
    "# Store feature names (ensure they are valid strings for command line args)\n",
    "feature_names = list(X.columns)\n",
    "features_string = \" \".join(feature_names) # Create space-separated string for script arg\n",
    "\n",
    "print(f\"Target column: {target_col}\")\n",
    "print(f\"Features ({len(feature_names)}): {features_string}\")\n",
    "\n",
    "# Split data into train and test sets\n",
    "X_train, X_test, y_train, y_test = train_test_split(\n",
    "    X, y, test_size=0.25, random_state=42, stratify=y # Use stratify for classification\n",
    ")\n",
    "\n",
    "# Create dataframes for saving\n",
    "train_df = X_train.copy()\n",
    "train_df[target_col] = y_train\n",
    "\n",
    "test_df = X_test.copy()\n",
    "test_df[target_col] = y_test\n",
    "\n",
    "# Define filenames\n",
    "train_file = \"combined_data_train.csv\"\n",
    "test_file = \"combined_data_test.csv\"\n",
    "\n",
    "# Save to CSV\n",
    "train_df.to_csv(train_file, index=False)\n",
    "test_df.to_csv(test_file, index=False)\n",
    "\n",
    "# Upload to S3\n",
    "prefix = \"sagemaker/sklearn-combined-data\"\n",
    "trainpath = sess.upload_data(\n",
    "    path=train_file, bucket=bucket, key_prefix=prefix\n",
    ")\n",
    "\n",
    "testpath = sess.upload_data(\n",
    "    path=test_file, bucket=bucket, key_prefix=prefix\n",
    ")\n",
    "\n",
    "print(f\"Train data uploaded to: {trainpath}\")\n",
    "print(f\"Test data uploaded to: {testpath}\")"
   ]
  },
  {
   "cell_type": "markdown",
   "metadata": {},
   "source": [
    "## Writing a *Script Mode* script\n",
    "The below script contains both training and inference functionality and can run both in SageMaker Training hardware or locally (desktop, SageMaker notebook, on prem, etc). Detailed guidance here https://sagemaker.readthedocs.io/en/stable/using_sklearn.html#preparing-the-scikit-learn-training-script"
   ]
  },
  {
   "cell_type": "code",
   "execution_count": 35,
   "metadata": {},
   "outputs": [
    {
     "name": "stdout",
     "output_type": "stream",
     "text": [
      "Overwriting script.py\n"
     ]
    }
   ],
   "source": [
    "%%writefile script.py\n",
    "\n",
    "import argparse\n",
    "import joblib\n",
    "import os\n",
    "import json\n",
    "\n",
    "import numpy as np\n",
    "import pandas as pd\n",
    "from sklearn.ensemble import RandomForestClassifier # Changed to Classifier\n",
    "from sklearn.metrics import f1_score # Import f1_score\n",
    "\n",
    "# inference functions ---------------\n",
    "def model_fn(model_dir):\n",
    "    clf = joblib.load(os.path.join(model_dir, \"model.joblib\"))\n",
    "    return clf\n",
    "\n",
    "if __name__ == \"__main__\":\n",
    "    print(\"extracting arguments\")\n",
    "    parser = argparse.ArgumentParser()\n",
    "\n",
    "    # hyperparameters sent by the client are passed as command-line arguments to the script.\n",
    "    parser.add_argument(\"--n-estimators\", type=int, default=100)\n",
    "    parser.add_argument(\"--min-samples-leaf\", type=int, default=3)\n",
    "    # Add class_weight hyperparameter\n",
    "    parser.add_argument(\"--class-weight\", type=str, default=None) # Can be 'balanced' or None\n",
    "    # Add other hyperparameters like max_depth if needed\n",
    "    # parser.add_argument(\"--max-depth\", type=int, default=None)\n",
    "\n",
    "    # Data, model, and output directories\n",
    "    parser.add_argument(\"--model-dir\", type=str, default=os.environ.get(\"SM_MODEL_DIR\"))\n",
    "    parser.add_argument(\"--train\", type=str, default=os.environ.get(\"SM_CHANNEL_TRAIN\"))\n",
    "    parser.add_argument(\"--test\", type=str, default=os.environ.get(\"SM_CHANNEL_TEST\"))\n",
    "    # Update default filenames to match the saved files\n",
    "    parser.add_argument(\"--train-file\", type=str, default=\"combined_data_train.csv\")\n",
    "    parser.add_argument(\"--test-file\", type=str, default=\"combined_data_test.csv\")\n",
    "    parser.add_argument(\n",
    "        \"--features\", type=str, required=True\n",
    "    )  # Make features required\n",
    "    parser.add_argument(\n",
    "        \"--target\", type=str, required=True\n",
    "    )  # Make target required\n",
    "\n",
    "    args, _ = parser.parse_known_args()\n",
    "\n",
    "    print(f\"Received features: {args.features}\")\n",
    "    print(f\"Received target: {args.target}\")\n",
    "    print(f\"Received class_weight: {args.class_weight}\")\n",
    "    feature_columns = args.features.split() # Split the space-separated string\n",
    "    target_column = args.target\n",
    "\n",
    "    print(\"reading data\")\n",
    "    train_df = pd.read_csv(os.path.join(args.train, args.train_file))\n",
    "    test_df = pd.read_csv(os.path.join(args.test, args.test_file))\n",
    "\n",
    "    print(\"building training and testing datasets\")\n",
    "    X_train = train_df[feature_columns]\n",
    "    X_test = test_df[feature_columns]\n",
    "    y_train = train_df[target_column]\n",
    "    y_test = test_df[target_column]\n",
    "\n",
    "    # Handle class_weight argument potentially being the string 'None'\n",
    "    class_weight_param = args.class_weight if args.class_weight != 'None' else None\n",
    "    weights = {0: 1, 1: 100}\n",
    "    # train\n",
    "    print(\"training model\")\n",
    "    # Use RandomForestClassifier\n",
    "    model = RandomForestClassifier(\n",
    "        n_estimators=args.n_estimators,\n",
    "        min_samples_leaf=args.min_samples_leaf,\n",
    "        random_state=42, # Add random state for reproducibility\n",
    "        n_jobs=-1,\n",
    "        class_weight=weights # Use the processed class_weight\n",
    "    )\n",
    "\n",
    "    model.fit(X_train, y_train)\n",
    "\n",
    "    # Evaluate model\n",
    "    print(\"validating model\")\n",
    "    y_pred = model.predict(X_test)\n",
    "    # Calculate F1 score (use average='binary' if it's binary classification, or 'weighted'/'macro' for multi-class)\n",
    "    f1 = f1_score(y_test, y_pred, average='binary') # Assuming binary classification for IS_WARN\n",
    "    print(f\"F1-score: {f1:.4f}\") # Print F1 score for metric tracking\n",
    "\n",
    "    # persist model\n",
    "    path = os.path.join(args.model_dir, \"model.joblib\")\n",
    "    joblib.dump(model, path)\n",
    "    print(\"model persisted at \" + path)"
   ]
  },
  {
   "cell_type": "markdown",
   "metadata": {},
   "source": [
    "## SageMaker Training"
   ]
  },
  {
   "cell_type": "markdown",
   "metadata": {},
   "source": [
    "### Launching a training job with the Python SDK"
   ]
  },
  {
   "cell_type": "code",
   "execution_count": 37,
   "metadata": {},
   "outputs": [],
   "source": [
    "# We use the Estimator from the SageMaker Python SDK\n",
    "from sagemaker.sklearn.estimator import SKLearn\n",
    "\n",
    "# Use a supported Scikit-learn version, e.g., 1.0-1 or 1.2-1\n",
    "FRAMEWORK_VERSION = \"1.2-1\" \n",
    "\n",
    "# Define the metric name and regex to capture F1 score\n",
    "metric_definitions = [{'Name': 'f1-score', 'Regex': 'F1-score: ([0-9\\.]+)'}]\n",
    "\n",
    "sklearn_estimator = SKLearn(\n",
    "    entry_point=\"script.py\",\n",
    "    role=get_execution_role(),\n",
    "    instance_count=1,\n",
    "    instance_type=\"ml.m5.large\", # Choose an appropriate instance type\n",
    "    framework_version=FRAMEWORK_VERSION,\n",
    "    base_job_name=\"sklearn-clf-combined\",\n",
    "    metric_definitions=metric_definitions,\n",
    "    hyperparameters={\n",
    "        \"n-estimators\": 100,\n",
    "        \"min-samples-leaf\": 3,\n",
    "        # Pass features and target dynamically\n",
    "        \"features\": features_string,\n",
    "        \"target\": target_col,\n",
    "        # Add class_weight to handle imbalance\n",
    "        \"class-weight\": \"balanced\",\n",
    "        # Pass train/test filenames if they differ from script defaults\n",
    "        # \"train-file\": train_file,\n",
    "        # \"test-file\": test_file\n",
    "    },\n",
    "    py_version=\"py3\" # Ensure python version is specified\n",
    ")"
   ]
  },
  {
   "cell_type": "code",
   "execution_count": 38,
   "metadata": {},
   "outputs": [
    {
     "data": {
      "text/html": [
       "<pre style=\"white-space:pre;overflow-x:auto;line-height:normal;font-family:Menlo,'DejaVu Sans Mono',consolas,'Courier New',monospace\"><span style=\"color: #7fbfbf; text-decoration-color: #7fbfbf\">[04/23/25 10:57:41] </span><span style=\"color: #0069ff; text-decoration-color: #0069ff; font-weight: bold\">INFO    </span> SageMaker Python SDK will collect telemetry to help us better  <a href=\"file:///home/ec2-user/anaconda3/envs/tensorflow2_p310/lib/python3.10/site-packages/sagemaker/telemetry/telemetry_logging.py\" target=\"_blank\"><span style=\"color: #7f7f7f; text-decoration-color: #7f7f7f\">telemetry_logging.py</span></a><span style=\"color: #7f7f7f; text-decoration-color: #7f7f7f\">:</span><a href=\"file:///home/ec2-user/anaconda3/envs/tensorflow2_p310/lib/python3.10/site-packages/sagemaker/telemetry/telemetry_logging.py#91\" target=\"_blank\"><span style=\"color: #7f7f7f; text-decoration-color: #7f7f7f\">91</span></a>\n",
       "<span style=\"color: #7fbfbf; text-decoration-color: #7fbfbf\">                    </span>         understand our user's needs, diagnose issues, and deliver      <span style=\"color: #7f7f7f; text-decoration-color: #7f7f7f\">                       </span>\n",
       "<span style=\"color: #7fbfbf; text-decoration-color: #7fbfbf\">                    </span>         additional features.                                           <span style=\"color: #7f7f7f; text-decoration-color: #7f7f7f\">                       </span>\n",
       "<span style=\"color: #7fbfbf; text-decoration-color: #7fbfbf\">                    </span>         To opt out of telemetry, please disable via TelemetryOptOut    <span style=\"color: #7f7f7f; text-decoration-color: #7f7f7f\">                       </span>\n",
       "<span style=\"color: #7fbfbf; text-decoration-color: #7fbfbf\">                    </span>         parameter in SDK defaults config. For more information, refer  <span style=\"color: #7f7f7f; text-decoration-color: #7f7f7f\">                       </span>\n",
       "<span style=\"color: #7fbfbf; text-decoration-color: #7fbfbf\">                    </span>         to                                                             <span style=\"color: #7f7f7f; text-decoration-color: #7f7f7f\">                       </span>\n",
       "<span style=\"color: #7fbfbf; text-decoration-color: #7fbfbf\">                    </span>         <span style=\"color: #0069ff; text-decoration-color: #0069ff; text-decoration: underline\">https://sagemaker.readthedocs.io/en/stable/overview.html#confi</span> <span style=\"color: #7f7f7f; text-decoration-color: #7f7f7f\">                       </span>\n",
       "<span style=\"color: #7fbfbf; text-decoration-color: #7fbfbf\">                    </span>         <span style=\"color: #0069ff; text-decoration-color: #0069ff; text-decoration: underline\">guring-and-using-defaults-with-the-sagemaker-python-sdk.</span>       <span style=\"color: #7f7f7f; text-decoration-color: #7f7f7f\">                       </span>\n",
       "</pre>\n"
      ],
      "text/plain": [
       "\u001b[2;36m[04/23/25 10:57:41]\u001b[0m\u001b[2;36m \u001b[0m\u001b[1;38;2;0;105;255mINFO    \u001b[0m SageMaker Python SDK will collect telemetry to help us better  \u001b]8;id=845760;file:///home/ec2-user/anaconda3/envs/tensorflow2_p310/lib/python3.10/site-packages/sagemaker/telemetry/telemetry_logging.py\u001b\\\u001b[2mtelemetry_logging.py\u001b[0m\u001b]8;;\u001b\\\u001b[2m:\u001b[0m\u001b]8;id=158870;file:///home/ec2-user/anaconda3/envs/tensorflow2_p310/lib/python3.10/site-packages/sagemaker/telemetry/telemetry_logging.py#91\u001b\\\u001b[2m91\u001b[0m\u001b]8;;\u001b\\\n",
       "\u001b[2;36m                    \u001b[0m         understand our user's needs, diagnose issues, and deliver      \u001b[2m                       \u001b[0m\n",
       "\u001b[2;36m                    \u001b[0m         additional features.                                           \u001b[2m                       \u001b[0m\n",
       "\u001b[2;36m                    \u001b[0m         To opt out of telemetry, please disable via TelemetryOptOut    \u001b[2m                       \u001b[0m\n",
       "\u001b[2;36m                    \u001b[0m         parameter in SDK defaults config. For more information, refer  \u001b[2m                       \u001b[0m\n",
       "\u001b[2;36m                    \u001b[0m         to                                                             \u001b[2m                       \u001b[0m\n",
       "\u001b[2;36m                    \u001b[0m         \u001b[4;38;2;0;105;255mhttps://sagemaker.readthedocs.io/en/stable/overview.html#confi\u001b[0m \u001b[2m                       \u001b[0m\n",
       "\u001b[2;36m                    \u001b[0m         \u001b[4;38;2;0;105;255mguring-and-using-defaults-with-the-sagemaker-python-sdk.\u001b[0m       \u001b[2m                       \u001b[0m\n"
      ]
     },
     "metadata": {},
     "output_type": "display_data"
    },
    {
     "data": {
      "text/html": [
       "<pre style=\"white-space:pre;overflow-x:auto;line-height:normal;font-family:Menlo,'DejaVu Sans Mono',consolas,'Courier New',monospace\"><span style=\"color: #7fbfbf; text-decoration-color: #7fbfbf\">                    </span><span style=\"color: #0069ff; text-decoration-color: #0069ff; font-weight: bold\">INFO    </span> Creating training-job with name:                                       <a href=\"file:///home/ec2-user/anaconda3/envs/tensorflow2_p310/lib/python3.10/site-packages/sagemaker/session.py\" target=\"_blank\"><span style=\"color: #7f7f7f; text-decoration-color: #7f7f7f\">session.py</span></a><span style=\"color: #7f7f7f; text-decoration-color: #7f7f7f\">:</span><a href=\"file:///home/ec2-user/anaconda3/envs/tensorflow2_p310/lib/python3.10/site-packages/sagemaker/session.py#1042\" target=\"_blank\"><span style=\"color: #7f7f7f; text-decoration-color: #7f7f7f\">1042</span></a>\n",
       "<span style=\"color: #7fbfbf; text-decoration-color: #7fbfbf\">                    </span>         sklearn-clf-combined-<span style=\"color: #008080; text-decoration-color: #008080; font-weight: bold\">2025</span>-04-23-10-57-41-050                           <span style=\"color: #7f7f7f; text-decoration-color: #7f7f7f\">               </span>\n",
       "</pre>\n"
      ],
      "text/plain": [
       "\u001b[2;36m                   \u001b[0m\u001b[2;36m \u001b[0m\u001b[1;38;2;0;105;255mINFO    \u001b[0m Creating training-job with name:                                       \u001b]8;id=184133;file:///home/ec2-user/anaconda3/envs/tensorflow2_p310/lib/python3.10/site-packages/sagemaker/session.py\u001b\\\u001b[2msession.py\u001b[0m\u001b]8;;\u001b\\\u001b[2m:\u001b[0m\u001b]8;id=559639;file:///home/ec2-user/anaconda3/envs/tensorflow2_p310/lib/python3.10/site-packages/sagemaker/session.py#1042\u001b\\\u001b[2m1042\u001b[0m\u001b]8;;\u001b\\\n",
       "\u001b[2;36m                    \u001b[0m         sklearn-clf-combined-\u001b[1;36m2025\u001b[0m-04-23-10-57-41-050                           \u001b[2m               \u001b[0m\n"
      ]
     },
     "metadata": {},
     "output_type": "display_data"
    },
    {
     "name": "stdout",
     "output_type": "stream",
     "text": [
      "2025-04-23 10:57:41 Starting - Starting the training job...\n",
      "2025-04-23 10:58:03 Starting - Preparing the instances for training...\n",
      "2025-04-23 10:58:28 Downloading - Downloading input data...\n",
      "2025-04-23 10:59:13 Downloading - Downloading the training image......\n",
      "2025-04-23 11:00:09 Training - Training image download completed. Training in progress..\u001b[34m2025-04-23 11:00:13,565 sagemaker-containers INFO     Imported framework sagemaker_sklearn_container.training\u001b[0m\n",
      "\u001b[34m2025-04-23 11:00:13,569 sagemaker-training-toolkit INFO     No GPUs detected (normal if no gpus installed)\u001b[0m\n",
      "\u001b[34m2025-04-23 11:00:13,571 sagemaker-training-toolkit INFO     No Neurons detected (normal if no neurons installed)\u001b[0m\n",
      "\u001b[34m2025-04-23 11:00:13,591 sagemaker_sklearn_container.training INFO     Invoking user training script.\u001b[0m\n",
      "\u001b[34m2025-04-23 11:00:13,847 sagemaker-training-toolkit INFO     No GPUs detected (normal if no gpus installed)\u001b[0m\n",
      "\u001b[34m2025-04-23 11:00:13,850 sagemaker-training-toolkit INFO     No Neurons detected (normal if no neurons installed)\u001b[0m\n",
      "\u001b[34m2025-04-23 11:00:13,869 sagemaker-training-toolkit INFO     No GPUs detected (normal if no gpus installed)\u001b[0m\n",
      "\u001b[34m2025-04-23 11:00:13,871 sagemaker-training-toolkit INFO     No Neurons detected (normal if no neurons installed)\u001b[0m\n",
      "\u001b[34m2025-04-23 11:00:13,891 sagemaker-training-toolkit INFO     No GPUs detected (normal if no gpus installed)\u001b[0m\n",
      "\u001b[34m2025-04-23 11:00:13,894 sagemaker-training-toolkit INFO     No Neurons detected (normal if no neurons installed)\u001b[0m\n",
      "\u001b[34m2025-04-23 11:00:13,953 sagemaker-training-toolkit INFO     Invoking user script\u001b[0m\n",
      "\u001b[34mTraining Env:\u001b[0m\n",
      "\u001b[34m{\n",
      "    \"additional_framework_parameters\": {},\n",
      "    \"channel_input_dirs\": {\n",
      "        \"test\": \"/opt/ml/input/data/test\",\n",
      "        \"train\": \"/opt/ml/input/data/train\"\n",
      "    },\n",
      "    \"current_host\": \"algo-1\",\n",
      "    \"current_instance_group\": \"homogeneousCluster\",\n",
      "    \"current_instance_group_hosts\": [\n",
      "        \"algo-1\"\n",
      "    ],\n",
      "    \"current_instance_type\": \"ml.m5.large\",\n",
      "    \"distribution_hosts\": [],\n",
      "    \"distribution_instance_groups\": [],\n",
      "    \"framework_module\": \"sagemaker_sklearn_container.training:main\",\n",
      "    \"hosts\": [\n",
      "        \"algo-1\"\n",
      "    ],\n",
      "    \"hyperparameters\": {\n",
      "        \"class-weight\": \"balanced\",\n",
      "        \"features\": \"CANCEL_NO_CONTACT IS_DIGITAL AUM_AMT YEARLYINCOMELEVEL TX_COUNT TX_SUM TX_MEAN TX_STD TX_MAX TX_MIN AVG_PB_BAL MAX_PB_BAL MIN_PB_BAL MODE_TX_TIME UNIQUE_CHANNELS UNIQUE_TRN_CODES SUM_MB_CHECK SUM_EB_CHECK FLAG_SAME_IP FLAG_SAME_UUID IS_WEEKEND ACCOUNT_AGE AGE\",\n",
      "        \"min-samples-leaf\": 3,\n",
      "        \"n-estimators\": 100,\n",
      "        \"target\": \"IS_WARN\"\n",
      "    },\n",
      "    \"input_config_dir\": \"/opt/ml/input/config\",\n",
      "    \"input_data_config\": {\n",
      "        \"test\": {\n",
      "            \"TrainingInputMode\": \"File\",\n",
      "            \"S3DistributionType\": \"FullyReplicated\",\n",
      "            \"RecordWrapperType\": \"None\"\n",
      "        },\n",
      "        \"train\": {\n",
      "            \"TrainingInputMode\": \"File\",\n",
      "            \"S3DistributionType\": \"FullyReplicated\",\n",
      "            \"RecordWrapperType\": \"None\"\n",
      "        }\n",
      "    },\n",
      "    \"input_dir\": \"/opt/ml/input\",\n",
      "    \"instance_groups\": [\n",
      "        \"homogeneousCluster\"\n",
      "    ],\n",
      "    \"instance_groups_dict\": {\n",
      "        \"homogeneousCluster\": {\n",
      "            \"instance_group_name\": \"homogeneousCluster\",\n",
      "            \"instance_type\": \"ml.m5.large\",\n",
      "            \"hosts\": [\n",
      "                \"algo-1\"\n",
      "            ]\n",
      "        }\n",
      "    },\n",
      "    \"is_hetero\": false,\n",
      "    \"is_master\": true,\n",
      "    \"is_modelparallel_enabled\": null,\n",
      "    \"is_smddpmprun_installed\": false,\n",
      "    \"is_smddprun_installed\": false,\n",
      "    \"job_name\": \"sklearn-clf-combined-2025-04-23-10-57-41-050\",\n",
      "    \"log_level\": 20,\n",
      "    \"master_hostname\": \"algo-1\",\n",
      "    \"model_dir\": \"/opt/ml/model\",\n",
      "    \"module_dir\": \"s3://sagemaker-us-east-1-630508781792/sklearn-clf-combined-2025-04-23-10-57-41-050/source/sourcedir.tar.gz\",\n",
      "    \"module_name\": \"script\",\n",
      "    \"network_interface_name\": \"eth0\",\n",
      "    \"num_cpus\": 2,\n",
      "    \"num_gpus\": 0,\n",
      "    \"num_neurons\": 0,\n",
      "    \"output_data_dir\": \"/opt/ml/output/data\",\n",
      "    \"output_dir\": \"/opt/ml/output\",\n",
      "    \"output_intermediate_dir\": \"/opt/ml/output/intermediate\",\n",
      "    \"resource_config\": {\n",
      "        \"current_host\": \"algo-1\",\n",
      "        \"current_instance_type\": \"ml.m5.large\",\n",
      "        \"current_group_name\": \"homogeneousCluster\",\n",
      "        \"hosts\": [\n",
      "            \"algo-1\"\n",
      "        ],\n",
      "        \"instance_groups\": [\n",
      "            {\n",
      "                \"instance_group_name\": \"homogeneousCluster\",\n",
      "                \"instance_type\": \"ml.m5.large\",\n",
      "                \"hosts\": [\n",
      "                    \"algo-1\"\n",
      "                ]\n",
      "            }\n",
      "        ],\n",
      "        \"network_interface_name\": \"eth0\"\n",
      "    },\n",
      "    \"user_entry_point\": \"script.py\"\u001b[0m\n",
      "\u001b[34m}\u001b[0m\n",
      "\u001b[34mEnvironment variables:\u001b[0m\n",
      "\u001b[34mSM_HOSTS=[\"algo-1\"]\u001b[0m\n",
      "\u001b[34mSM_NETWORK_INTERFACE_NAME=eth0\u001b[0m\n",
      "\u001b[34mSM_HPS={\"class-weight\":\"balanced\",\"features\":\"CANCEL_NO_CONTACT IS_DIGITAL AUM_AMT YEARLYINCOMELEVEL TX_COUNT TX_SUM TX_MEAN TX_STD TX_MAX TX_MIN AVG_PB_BAL MAX_PB_BAL MIN_PB_BAL MODE_TX_TIME UNIQUE_CHANNELS UNIQUE_TRN_CODES SUM_MB_CHECK SUM_EB_CHECK FLAG_SAME_IP FLAG_SAME_UUID IS_WEEKEND ACCOUNT_AGE AGE\",\"min-samples-leaf\":3,\"n-estimators\":100,\"target\":\"IS_WARN\"}\u001b[0m\n",
      "\u001b[34mSM_USER_ENTRY_POINT=script.py\u001b[0m\n",
      "\u001b[34mSM_FRAMEWORK_PARAMS={}\u001b[0m\n",
      "\u001b[34mSM_RESOURCE_CONFIG={\"current_group_name\":\"homogeneousCluster\",\"current_host\":\"algo-1\",\"current_instance_type\":\"ml.m5.large\",\"hosts\":[\"algo-1\"],\"instance_groups\":[{\"hosts\":[\"algo-1\"],\"instance_group_name\":\"homogeneousCluster\",\"instance_type\":\"ml.m5.large\"}],\"network_interface_name\":\"eth0\"}\u001b[0m\n",
      "\u001b[34mSM_INPUT_DATA_CONFIG={\"test\":{\"RecordWrapperType\":\"None\",\"S3DistributionType\":\"FullyReplicated\",\"TrainingInputMode\":\"File\"},\"train\":{\"RecordWrapperType\":\"None\",\"S3DistributionType\":\"FullyReplicated\",\"TrainingInputMode\":\"File\"}}\u001b[0m\n",
      "\u001b[34mSM_OUTPUT_DATA_DIR=/opt/ml/output/data\u001b[0m\n",
      "\u001b[34mSM_CHANNELS=[\"test\",\"train\"]\u001b[0m\n",
      "\u001b[34mSM_CURRENT_HOST=algo-1\u001b[0m\n",
      "\u001b[34mSM_CURRENT_INSTANCE_TYPE=ml.m5.large\u001b[0m\n",
      "\u001b[34mSM_CURRENT_INSTANCE_GROUP=homogeneousCluster\u001b[0m\n",
      "\u001b[34mSM_CURRENT_INSTANCE_GROUP_HOSTS=[\"algo-1\"]\u001b[0m\n",
      "\u001b[34mSM_INSTANCE_GROUPS=[\"homogeneousCluster\"]\u001b[0m\n",
      "\u001b[34mSM_INSTANCE_GROUPS_DICT={\"homogeneousCluster\":{\"hosts\":[\"algo-1\"],\"instance_group_name\":\"homogeneousCluster\",\"instance_type\":\"ml.m5.large\"}}\u001b[0m\n",
      "\u001b[34mSM_DISTRIBUTION_INSTANCE_GROUPS=[]\u001b[0m\n",
      "\u001b[34mSM_IS_HETERO=false\u001b[0m\n",
      "\u001b[34mSM_MODULE_NAME=script\u001b[0m\n",
      "\u001b[34mSM_LOG_LEVEL=20\u001b[0m\n",
      "\u001b[34mSM_FRAMEWORK_MODULE=sagemaker_sklearn_container.training:main\u001b[0m\n",
      "\u001b[34mSM_INPUT_DIR=/opt/ml/input\u001b[0m\n",
      "\u001b[34mSM_INPUT_CONFIG_DIR=/opt/ml/input/config\u001b[0m\n",
      "\u001b[34mSM_OUTPUT_DIR=/opt/ml/output\u001b[0m\n",
      "\u001b[34mSM_NUM_CPUS=2\u001b[0m\n",
      "\u001b[34mSM_NUM_GPUS=0\u001b[0m\n",
      "\u001b[34mSM_NUM_NEURONS=0\u001b[0m\n",
      "\u001b[34mSM_MODEL_DIR=/opt/ml/model\u001b[0m\n",
      "\u001b[34mSM_MODULE_DIR=s3://sagemaker-us-east-1-630508781792/sklearn-clf-combined-2025-04-23-10-57-41-050/source/sourcedir.tar.gz\u001b[0m\n",
      "\u001b[34mSM_TRAINING_ENV={\"additional_framework_parameters\":{},\"channel_input_dirs\":{\"test\":\"/opt/ml/input/data/test\",\"train\":\"/opt/ml/input/data/train\"},\"current_host\":\"algo-1\",\"current_instance_group\":\"homogeneousCluster\",\"current_instance_group_hosts\":[\"algo-1\"],\"current_instance_type\":\"ml.m5.large\",\"distribution_hosts\":[],\"distribution_instance_groups\":[],\"framework_module\":\"sagemaker_sklearn_container.training:main\",\"hosts\":[\"algo-1\"],\"hyperparameters\":{\"class-weight\":\"balanced\",\"features\":\"CANCEL_NO_CONTACT IS_DIGITAL AUM_AMT YEARLYINCOMELEVEL TX_COUNT TX_SUM TX_MEAN TX_STD TX_MAX TX_MIN AVG_PB_BAL MAX_PB_BAL MIN_PB_BAL MODE_TX_TIME UNIQUE_CHANNELS UNIQUE_TRN_CODES SUM_MB_CHECK SUM_EB_CHECK FLAG_SAME_IP FLAG_SAME_UUID IS_WEEKEND ACCOUNT_AGE AGE\",\"min-samples-leaf\":3,\"n-estimators\":100,\"target\":\"IS_WARN\"},\"input_config_dir\":\"/opt/ml/input/config\",\"input_data_config\":{\"test\":{\"RecordWrapperType\":\"None\",\"S3DistributionType\":\"FullyReplicated\",\"TrainingInputMode\":\"File\"},\"train\":{\"RecordWrapperType\":\"None\",\"S3DistributionType\":\"FullyReplicated\",\"TrainingInputMode\":\"File\"}},\"input_dir\":\"/opt/ml/input\",\"instance_groups\":[\"homogeneousCluster\"],\"instance_groups_dict\":{\"homogeneousCluster\":{\"hosts\":[\"algo-1\"],\"instance_group_name\":\"homogeneousCluster\",\"instance_type\":\"ml.m5.large\"}},\"is_hetero\":false,\"is_master\":true,\"is_modelparallel_enabled\":null,\"is_smddpmprun_installed\":false,\"is_smddprun_installed\":false,\"job_name\":\"sklearn-clf-combined-2025-04-23-10-57-41-050\",\"log_level\":20,\"master_hostname\":\"algo-1\",\"model_dir\":\"/opt/ml/model\",\"module_dir\":\"s3://sagemaker-us-east-1-630508781792/sklearn-clf-combined-2025-04-23-10-57-41-050/source/sourcedir.tar.gz\",\"module_name\":\"script\",\"network_interface_name\":\"eth0\",\"num_cpus\":2,\"num_gpus\":0,\"num_neurons\":0,\"output_data_dir\":\"/opt/ml/output/data\",\"output_dir\":\"/opt/ml/output\",\"output_intermediate_dir\":\"/opt/ml/output/intermediate\",\"resource_config\":{\"current_group_name\":\"homogeneousCluster\",\"current_host\":\"algo-1\",\"current_instance_type\":\"ml.m5.large\",\"hosts\":[\"algo-1\"],\"instance_groups\":[{\"hosts\":[\"algo-1\"],\"instance_group_name\":\"homogeneousCluster\",\"instance_type\":\"ml.m5.large\"}],\"network_interface_name\":\"eth0\"},\"user_entry_point\":\"script.py\"}\u001b[0m\n",
      "\u001b[34mSM_USER_ARGS=[\"--class-weight\",\"balanced\",\"--features\",\"CANCEL_NO_CONTACT IS_DIGITAL AUM_AMT YEARLYINCOMELEVEL TX_COUNT TX_SUM TX_MEAN TX_STD TX_MAX TX_MIN AVG_PB_BAL MAX_PB_BAL MIN_PB_BAL MODE_TX_TIME UNIQUE_CHANNELS UNIQUE_TRN_CODES SUM_MB_CHECK SUM_EB_CHECK FLAG_SAME_IP FLAG_SAME_UUID IS_WEEKEND ACCOUNT_AGE AGE\",\"--min-samples-leaf\",\"3\",\"--n-estimators\",\"100\",\"--target\",\"IS_WARN\"]\u001b[0m\n",
      "\u001b[34mSM_OUTPUT_INTERMEDIATE_DIR=/opt/ml/output/intermediate\u001b[0m\n",
      "\u001b[34mSM_CHANNEL_TEST=/opt/ml/input/data/test\u001b[0m\n",
      "\u001b[34mSM_CHANNEL_TRAIN=/opt/ml/input/data/train\u001b[0m\n",
      "\u001b[34mSM_HP_CLASS-WEIGHT=balanced\u001b[0m\n",
      "\u001b[34mSM_HP_FEATURES=CANCEL_NO_CONTACT IS_DIGITAL AUM_AMT YEARLYINCOMELEVEL TX_COUNT TX_SUM TX_MEAN TX_STD TX_MAX TX_MIN AVG_PB_BAL MAX_PB_BAL MIN_PB_BAL MODE_TX_TIME UNIQUE_CHANNELS UNIQUE_TRN_CODES SUM_MB_CHECK SUM_EB_CHECK FLAG_SAME_IP FLAG_SAME_UUID IS_WEEKEND ACCOUNT_AGE AGE\u001b[0m\n",
      "\u001b[34mSM_HP_MIN-SAMPLES-LEAF=3\u001b[0m\n",
      "\u001b[34mSM_HP_N-ESTIMATORS=100\u001b[0m\n",
      "\u001b[34mSM_HP_TARGET=IS_WARN\u001b[0m\n",
      "\u001b[34mPYTHONPATH=/opt/ml/code:/miniconda3/bin:/miniconda3/lib/python39.zip:/miniconda3/lib/python3.9:/miniconda3/lib/python3.9/lib-dynload:/miniconda3/lib/python3.9/site-packages:/miniconda3/lib/python3.9/site-packages/setuptools/_vendor\u001b[0m\n",
      "\u001b[34mInvoking script with the following command:\u001b[0m\n",
      "\u001b[34m/miniconda3/bin/python script.py --class-weight balanced --features CANCEL_NO_CONTACT IS_DIGITAL AUM_AMT YEARLYINCOMELEVEL TX_COUNT TX_SUM TX_MEAN TX_STD TX_MAX TX_MIN AVG_PB_BAL MAX_PB_BAL MIN_PB_BAL MODE_TX_TIME UNIQUE_CHANNELS UNIQUE_TRN_CODES SUM_MB_CHECK SUM_EB_CHECK FLAG_SAME_IP FLAG_SAME_UUID IS_WEEKEND ACCOUNT_AGE AGE --min-samples-leaf 3 --n-estimators 100 --target IS_WARN\u001b[0m\n",
      "\u001b[34m2025-04-23 11:00:13,956 sagemaker-training-toolkit INFO     Exceptions not imported for SageMaker Debugger as it is not installed.\u001b[0m\n",
      "\u001b[34m2025-04-23 11:00:13,956 sagemaker-training-toolkit INFO     Exceptions not imported for SageMaker TF as Tensorflow is not installed.\u001b[0m\n",
      "\u001b[34mextracting arguments\u001b[0m\n",
      "\u001b[34mReceived features: CANCEL_NO_CONTACT IS_DIGITAL AUM_AMT YEARLYINCOMELEVEL TX_COUNT TX_SUM TX_MEAN TX_STD TX_MAX TX_MIN AVG_PB_BAL MAX_PB_BAL MIN_PB_BAL MODE_TX_TIME UNIQUE_CHANNELS UNIQUE_TRN_CODES SUM_MB_CHECK SUM_EB_CHECK FLAG_SAME_IP FLAG_SAME_UUID IS_WEEKEND ACCOUNT_AGE AGE\u001b[0m\n",
      "\u001b[34mReceived target: IS_WARN\u001b[0m\n",
      "\u001b[34mReceived class_weight: balanced\u001b[0m\n",
      "\u001b[34mreading data\u001b[0m\n",
      "\u001b[34mbuilding training and testing datasets\u001b[0m\n",
      "\u001b[34mtraining model\u001b[0m\n",
      "\u001b[34mvalidating model\u001b[0m\n",
      "\u001b[34mF1-score: 0.4414\u001b[0m\n",
      "\u001b[34mmodel persisted at /opt/ml/model/model.joblib\u001b[0m\n",
      "\u001b[34m2025-04-23 11:00:16,636 sagemaker-containers INFO     Reporting training SUCCESS\u001b[0m\n",
      "\n",
      "2025-04-23 11:00:37 Uploading - Uploading generated training model\n",
      "2025-04-23 11:00:37 Completed - Training job completed\n",
      "Training seconds: 130\n",
      "Billable seconds: 130\n"
     ]
    }
   ],
   "source": [
    "# launch training job, with asynchronous call\n",
    "sklearn_estimator.fit({\"train\": trainpath, \"test\": testpath}, wait=True)"
   ]
  },
  {
   "cell_type": "code",
   "execution_count": null,
   "metadata": {},
   "outputs": [],
   "source": [
    "# first compress the code and send to S3\n",
    "\n",
    "source = \"source.tar.gz\"\n",
    "project = \"scikitlearn-train-from-boto3\"\n",
    "\n",
    "tar = tarfile.open(source, \"w:gz\")\n",
    "tar.add(\"script.py\")\n",
    "tar.close()\n",
    "\n",
    "s3 = boto3.client(\"s3\")\n",
    "s3.upload_file(source, bucket, project + \"/\" + source)"
   ]
  },
  {
   "cell_type": "markdown",
   "metadata": {},
   "source": [
    "When using `boto3` to launch a training job we must explicitly point to a docker image."
   ]
  },
  {
   "cell_type": "code",
   "execution_count": null,
   "metadata": {},
   "outputs": [],
   "source": [
    "from sagemaker import image_uris\n",
    "\n",
    "\n",
    "training_image = image_uris.retrieve(\n",
    "    framework=\"sklearn\",\n",
    "    region=region,\n",
    "    version=FRAMEWORK_VERSION,\n",
    "    py_version=\"py3\",\n",
    "    instance_type=\"ml.c5.xlarge\",\n",
    ")\n",
    "print(training_image)"
   ]
  },
  {
   "cell_type": "code",
   "execution_count": null,
   "metadata": {},
   "outputs": [],
   "source": [
    "# launch training job\n",
    "\n",
    "response = sm_boto3.create_training_job(\n",
    "    TrainingJobName=\"sklearn-boto3-\" + datetime.datetime.now().strftime(\"%Y-%m-%d-%H-%M-%S\"),\n",
    "    HyperParameters={\n",
    "        \"n_estimators\": \"100\", # Example hyperparameter\n",
    "        \"min_samples_leaf\": \"3\", # Example hyperparameter\n",
    "        # \"max-depth\": \"10\", # Example hyperparameter\n",
    "        \"class-weight\": \"balanced\", # Add class weight for imbalance\n",
    "        \"sagemaker_program\": \"script.py\",\n",
    "        # Use the dynamic features_string variable\n",
    "        \"features\": features_string,\n",
    "        \"target\": target_col,\n",
    "        \"sagemaker_submit_directory\": \"s3://\" + bucket + \"/\" + project + \"/\" + source,\n",
    "        # Add train/test file names if they differ from script defaults\n",
    "        # \"train-file\": train_file,\n",
    "        # \"test-file\": test_file,\n",
    "    },\n",
    "    AlgorithmSpecification={\n",
    "        \"TrainingImage\": training_image,\n",
    "        \"TrainingInputMode\": \"File\",\n",
    "        # Update metric definitions for F1 score if using boto3 for tuning/evaluation\n",
    "        \"MetricDefinitions\": [\n",
    "            {'Name': 'f1-score', 'Regex': 'F1-score: ([0-9\\.]+)'}\n",
    "        ],\n",
    "    },\n",
    "    RoleArn=get_execution_role(),\n",
    "    InputDataConfig=[\n",
    "        {\n",
    "            \"ChannelName\": \"train\",\n",
    "            \"DataSource\": {\n",
    "                \"S3DataSource\": {\n",
    "                    \"S3DataType\": \"S3Prefix\",\n",
    "                    \"S3Uri\": trainpath,\n",
    "                    \"S3DataDistributionType\": \"FullyReplicated\",\n",
    "                }\n",
    "            },\n",
    "        },\n",
    "        {\n",
    "            \"ChannelName\": \"test\",\n",
    "            \"DataSource\": {\n",
    "                \"S3DataSource\": {\n",
    "                    \"S3DataType\": \"S3Prefix\",\n",
    "                    \"S3Uri\": testpath,\n",
    "                    \"S3DataDistributionType\": \"FullyReplicated\",\n",
    "                }\n",
    "            },\n",
    "        },\n",
    "    ],\n",
    "    OutputDataConfig={\"S3OutputPath\": \"s3://\" + bucket + \"/sagemaker-sklearn-artifact/\"},\n",
    "    ResourceConfig={\"InstanceType\": \"ml.m5.large\", \"InstanceCount\": 1, \"VolumeSizeInGB\": 10}, # Match instance type\n",
    "    StoppingCondition={\"MaxRuntimeInSeconds\": 86400},\n",
    "    EnableNetworkIsolation=False,\n",
    ")\n",
    "\n",
    "print(response)"
   ]
  },
  {
   "cell_type": "markdown",
   "metadata": {},
   "source": [
    "### Launching a tuning job with the Python SDK"
   ]
  },
  {
   "cell_type": "code",
   "execution_count": 39,
   "metadata": {},
   "outputs": [],
   "source": [
    "# we use the Hyperparameter Tuner\n",
    "from sagemaker.tuner import IntegerParameter, HyperparameterTuner, CategoricalParameter\n",
    "\n",
    "# Define exploration boundaries\n",
    "hyperparameter_ranges = {\n",
    "    \"n-estimators\": IntegerParameter(200, 1000),\n",
    "    \"min-samples-leaf\": IntegerParameter(2, 10),\n",
    "    \"max_depth\": IntegerParameter(10, 80)\n",
    "}\n",
    "\n",
    "# Define the objective metric based on the metric definitions\n",
    "objective_metric_name = \"f1-score\"\n",
    "objective_type = \"Maximize\" # Maximize F1 score\n",
    "metric_definitions = [{'Name': 'f1-score', 'Regex': 'F1-score: ([0-9\\.]+)'}]\n",
    "\n",
    "# create Optimizer\n",
    "# Note: The base estimator 'sklearn_estimator' already has class-weight='balanced'.\n",
    "# If 'class-weight' is NOT included in hyperparameter_ranges, all tuning jobs will use 'balanced'.\n",
    "# If 'class-weight' IS included in hyperparameter_ranges, the tuner will explore both 'balanced' and None.\n",
    "tuner = HyperparameterTuner(\n",
    "    estimator=sklearn_estimator, # Estimator already configured with class_weight='balanced'\n",
    "    hyperparameter_ranges=hyperparameter_ranges,\n",
    "    base_tuning_job_name=\"sklearn-clf-tuner\",\n",
    "    objective_type=objective_type,\n",
    "    objective_metric_name=objective_metric_name,\n",
    "    metric_definitions=metric_definitions,\n",
    "    max_jobs=50, # Increase max_jobs for better tuning\n",
    "    max_parallel_jobs=10, # Increase parallel jobs if budget allows\n",
    "    strategy='Bayesian', # Or 'Random'\n",
    ")"
   ]
  },
  {
   "cell_type": "code",
   "execution_count": 40,
   "metadata": {},
   "outputs": [
    {
     "data": {
      "text/html": [
       "<pre style=\"white-space:pre;overflow-x:auto;line-height:normal;font-family:Menlo,'DejaVu Sans Mono',consolas,'Courier New',monospace\"><span style=\"color: #7fbfbf; text-decoration-color: #7fbfbf\">[04/23/25 11:05:09] </span><span style=\"color: #0069ff; text-decoration-color: #0069ff; font-weight: bold\">INFO    </span> Creating hyperparameter tuning job with name:                          <a href=\"file:///home/ec2-user/anaconda3/envs/tensorflow2_p310/lib/python3.10/site-packages/sagemaker/session.py\" target=\"_blank\"><span style=\"color: #7f7f7f; text-decoration-color: #7f7f7f\">session.py</span></a><span style=\"color: #7f7f7f; text-decoration-color: #7f7f7f\">:</span><a href=\"file:///home/ec2-user/anaconda3/envs/tensorflow2_p310/lib/python3.10/site-packages/sagemaker/session.py#3383\" target=\"_blank\"><span style=\"color: #7f7f7f; text-decoration-color: #7f7f7f\">3383</span></a>\n",
       "<span style=\"color: #7fbfbf; text-decoration-color: #7fbfbf\">                    </span>         sklearn-clf-tuner-<span style=\"color: #008080; text-decoration-color: #008080; font-weight: bold\">250423</span>-<span style=\"color: #008080; text-decoration-color: #008080; font-weight: bold\">1105</span>                                          <span style=\"color: #7f7f7f; text-decoration-color: #7f7f7f\">               </span>\n",
       "</pre>\n"
      ],
      "text/plain": [
       "\u001b[2;36m[04/23/25 11:05:09]\u001b[0m\u001b[2;36m \u001b[0m\u001b[1;38;2;0;105;255mINFO    \u001b[0m Creating hyperparameter tuning job with name:                          \u001b]8;id=782674;file:///home/ec2-user/anaconda3/envs/tensorflow2_p310/lib/python3.10/site-packages/sagemaker/session.py\u001b\\\u001b[2msession.py\u001b[0m\u001b]8;;\u001b\\\u001b[2m:\u001b[0m\u001b]8;id=214377;file:///home/ec2-user/anaconda3/envs/tensorflow2_p310/lib/python3.10/site-packages/sagemaker/session.py#3383\u001b\\\u001b[2m3383\u001b[0m\u001b]8;;\u001b\\\n",
       "\u001b[2;36m                    \u001b[0m         sklearn-clf-tuner-\u001b[1;36m250423\u001b[0m-\u001b[1;36m1105\u001b[0m                                          \u001b[2m               \u001b[0m\n"
      ]
     },
     "metadata": {},
     "output_type": "display_data"
    },
    {
     "name": "stdout",
     "output_type": "stream",
     "text": [
      ".........................................................................................................!\n"
     ]
    }
   ],
   "source": [
    "tuner.fit({\"train\": trainpath, \"test\": testpath}, wait=True)"
   ]
  },
  {
   "cell_type": "code",
   "execution_count": 41,
   "metadata": {},
   "outputs": [
    {
     "data": {
      "text/html": [
       "<div>\n",
       "<style scoped>\n",
       "    .dataframe tbody tr th:only-of-type {\n",
       "        vertical-align: middle;\n",
       "    }\n",
       "\n",
       "    .dataframe tbody tr th {\n",
       "        vertical-align: top;\n",
       "    }\n",
       "\n",
       "    .dataframe thead th {\n",
       "        text-align: right;\n",
       "    }\n",
       "</style>\n",
       "<table border=\"1\" class=\"dataframe\">\n",
       "  <thead>\n",
       "    <tr style=\"text-align: right;\">\n",
       "      <th></th>\n",
       "      <th>max_depth</th>\n",
       "      <th>min-samples-leaf</th>\n",
       "      <th>n-estimators</th>\n",
       "      <th>TrainingJobName</th>\n",
       "      <th>TrainingJobStatus</th>\n",
       "      <th>FinalObjectiveValue</th>\n",
       "      <th>TrainingStartTime</th>\n",
       "      <th>TrainingEndTime</th>\n",
       "      <th>TrainingElapsedTimeSeconds</th>\n",
       "    </tr>\n",
       "  </thead>\n",
       "  <tbody>\n",
       "    <tr>\n",
       "      <th>9</th>\n",
       "      <td>39.0</td>\n",
       "      <td>7.0</td>\n",
       "      <td>201.0</td>\n",
       "      <td>sklearn-clf-tuner-250423-1105-041-7a63201a</td>\n",
       "      <td>Completed</td>\n",
       "      <td>0.4674</td>\n",
       "      <td>2025-04-23 11:12:08+00:00</td>\n",
       "      <td>2025-04-23 11:13:02+00:00</td>\n",
       "      <td>54.0</td>\n",
       "    </tr>\n",
       "    <tr>\n",
       "      <th>11</th>\n",
       "      <td>67.0</td>\n",
       "      <td>7.0</td>\n",
       "      <td>202.0</td>\n",
       "      <td>sklearn-clf-tuner-250423-1105-039-712cd60b</td>\n",
       "      <td>Completed</td>\n",
       "      <td>0.4649</td>\n",
       "      <td>2025-04-23 11:11:35+00:00</td>\n",
       "      <td>2025-04-23 11:12:24+00:00</td>\n",
       "      <td>49.0</td>\n",
       "    </tr>\n",
       "    <tr>\n",
       "      <th>29</th>\n",
       "      <td>52.0</td>\n",
       "      <td>7.0</td>\n",
       "      <td>207.0</td>\n",
       "      <td>sklearn-clf-tuner-250423-1105-021-88dd51ff</td>\n",
       "      <td>Completed</td>\n",
       "      <td>0.4649</td>\n",
       "      <td>2025-04-23 11:09:45+00:00</td>\n",
       "      <td>2025-04-23 11:10:29+00:00</td>\n",
       "      <td>44.0</td>\n",
       "    </tr>\n",
       "    <tr>\n",
       "      <th>10</th>\n",
       "      <td>33.0</td>\n",
       "      <td>7.0</td>\n",
       "      <td>206.0</td>\n",
       "      <td>sklearn-clf-tuner-250423-1105-040-064d69be</td>\n",
       "      <td>Completed</td>\n",
       "      <td>0.4624</td>\n",
       "      <td>2025-04-23 11:11:43+00:00</td>\n",
       "      <td>2025-04-23 11:12:32+00:00</td>\n",
       "      <td>49.0</td>\n",
       "    </tr>\n",
       "    <tr>\n",
       "      <th>19</th>\n",
       "      <td>32.0</td>\n",
       "      <td>7.0</td>\n",
       "      <td>215.0</td>\n",
       "      <td>sklearn-clf-tuner-250423-1105-031-51c6971e</td>\n",
       "      <td>Completed</td>\n",
       "      <td>0.4599</td>\n",
       "      <td>2025-04-23 11:10:43+00:00</td>\n",
       "      <td>2025-04-23 11:11:38+00:00</td>\n",
       "      <td>55.0</td>\n",
       "    </tr>\n",
       "  </tbody>\n",
       "</table>\n",
       "</div>"
      ],
      "text/plain": [
       "    max_depth  min-samples-leaf  n-estimators  \\\n",
       "9        39.0               7.0         201.0   \n",
       "11       67.0               7.0         202.0   \n",
       "29       52.0               7.0         207.0   \n",
       "10       33.0               7.0         206.0   \n",
       "19       32.0               7.0         215.0   \n",
       "\n",
       "                               TrainingJobName TrainingJobStatus  \\\n",
       "9   sklearn-clf-tuner-250423-1105-041-7a63201a         Completed   \n",
       "11  sklearn-clf-tuner-250423-1105-039-712cd60b         Completed   \n",
       "29  sklearn-clf-tuner-250423-1105-021-88dd51ff         Completed   \n",
       "10  sklearn-clf-tuner-250423-1105-040-064d69be         Completed   \n",
       "19  sklearn-clf-tuner-250423-1105-031-51c6971e         Completed   \n",
       "\n",
       "    FinalObjectiveValue         TrainingStartTime           TrainingEndTime  \\\n",
       "9                0.4674 2025-04-23 11:12:08+00:00 2025-04-23 11:13:02+00:00   \n",
       "11               0.4649 2025-04-23 11:11:35+00:00 2025-04-23 11:12:24+00:00   \n",
       "29               0.4649 2025-04-23 11:09:45+00:00 2025-04-23 11:10:29+00:00   \n",
       "10               0.4624 2025-04-23 11:11:43+00:00 2025-04-23 11:12:32+00:00   \n",
       "19               0.4599 2025-04-23 11:10:43+00:00 2025-04-23 11:11:38+00:00   \n",
       "\n",
       "    TrainingElapsedTimeSeconds  \n",
       "9                         54.0  \n",
       "11                        49.0  \n",
       "29                        44.0  \n",
       "10                        49.0  \n",
       "19                        55.0  "
      ]
     },
     "execution_count": 41,
     "metadata": {},
     "output_type": "execute_result"
    }
   ],
   "source": [
    "# get tuner results in a df\n",
    "results = tuner.analytics().dataframe()\n",
    "while results.empty:\n",
    "    time.sleep(1)\n",
    "    results = tuner.analytics().dataframe()\n",
    "# Sort by F1 score descending\n",
    "results = results.sort_values('FinalObjectiveValue', ascending=False)\n",
    "results.head()"
   ]
  },
  {
   "cell_type": "markdown",
   "metadata": {},
   "source": [
    "## Deploy to a real-time endpoint"
   ]
  },
  {
   "cell_type": "markdown",
   "metadata": {},
   "source": [
    "### Deploy with Python SDK"
   ]
  },
  {
   "cell_type": "markdown",
   "metadata": {},
   "source": [
    "An `Estimator` could be deployed directly after training, with an `Estimator.deploy()` but here we showcase the more extensive process of creating a model from s3 artifacts, that could be used to deploy a model that was trained in a different session or even out of SageMaker."
   ]
  },
  {
   "cell_type": "code",
   "execution_count": 42,
   "metadata": {},
   "outputs": [
    {
     "name": "stdout",
     "output_type": "stream",
     "text": [
      "\n",
      "2025-04-23 11:13:04 Starting - Found matching resource for reuse\n",
      "2025-04-23 11:13:04 Downloading - Downloading the training image\n",
      "2025-04-23 11:13:04 Training - Training image download completed. Training in progress.\n",
      "2025-04-23 11:13:04 Uploading - Uploading generated training model\n",
      "2025-04-23 11:13:04 Completed - Resource retained for reuse\n"
     ]
    },
    {
     "data": {
      "text/html": [
       "<pre style=\"white-space:pre;overflow-x:auto;line-height:normal;font-family:Menlo,'DejaVu Sans Mono',consolas,'Courier New',monospace\"><span style=\"color: #7fbfbf; text-decoration-color: #7fbfbf\">[04/23/25 11:15:17] </span><span style=\"color: #0069ff; text-decoration-color: #0069ff; font-weight: bold\">INFO    </span> Creating model with name: sklearn-clf-tuner-<span style=\"color: #008080; text-decoration-color: #008080; font-weight: bold\">2025</span>-04-23-11-15-16-971    <a href=\"file:///home/ec2-user/anaconda3/envs/tensorflow2_p310/lib/python3.10/site-packages/sagemaker/session.py\" target=\"_blank\"><span style=\"color: #7f7f7f; text-decoration-color: #7f7f7f\">session.py</span></a><span style=\"color: #7f7f7f; text-decoration-color: #7f7f7f\">:</span><a href=\"file:///home/ec2-user/anaconda3/envs/tensorflow2_p310/lib/python3.10/site-packages/sagemaker/session.py#4094\" target=\"_blank\"><span style=\"color: #7f7f7f; text-decoration-color: #7f7f7f\">4094</span></a>\n",
       "</pre>\n"
      ],
      "text/plain": [
       "\u001b[2;36m[04/23/25 11:15:17]\u001b[0m\u001b[2;36m \u001b[0m\u001b[1;38;2;0;105;255mINFO    \u001b[0m Creating model with name: sklearn-clf-tuner-\u001b[1;36m2025\u001b[0m-04-23-11-15-16-971    \u001b]8;id=146057;file:///home/ec2-user/anaconda3/envs/tensorflow2_p310/lib/python3.10/site-packages/sagemaker/session.py\u001b\\\u001b[2msession.py\u001b[0m\u001b]8;;\u001b\\\u001b[2m:\u001b[0m\u001b]8;id=65648;file:///home/ec2-user/anaconda3/envs/tensorflow2_p310/lib/python3.10/site-packages/sagemaker/session.py#4094\u001b\\\u001b[2m4094\u001b[0m\u001b]8;;\u001b\\\n"
      ]
     },
     "metadata": {},
     "output_type": "display_data"
    },
    {
     "data": {
      "text/html": [
       "<pre style=\"white-space:pre;overflow-x:auto;line-height:normal;font-family:Menlo,'DejaVu Sans Mono',consolas,'Courier New',monospace\"><span style=\"color: #7fbfbf; text-decoration-color: #7fbfbf\">                    </span><span style=\"color: #0069ff; text-decoration-color: #0069ff; font-weight: bold\">INFO    </span> Creating endpoint-config with name                                     <a href=\"file:///home/ec2-user/anaconda3/envs/tensorflow2_p310/lib/python3.10/site-packages/sagemaker/session.py\" target=\"_blank\"><span style=\"color: #7f7f7f; text-decoration-color: #7f7f7f\">session.py</span></a><span style=\"color: #7f7f7f; text-decoration-color: #7f7f7f\">:</span><a href=\"file:///home/ec2-user/anaconda3/envs/tensorflow2_p310/lib/python3.10/site-packages/sagemaker/session.py#6019\" target=\"_blank\"><span style=\"color: #7f7f7f; text-decoration-color: #7f7f7f\">6019</span></a>\n",
       "<span style=\"color: #7fbfbf; text-decoration-color: #7fbfbf\">                    </span>         sklearn-clf-tuner-<span style=\"color: #008080; text-decoration-color: #008080; font-weight: bold\">2025</span>-04-23-11-15-16-971                              <span style=\"color: #7f7f7f; text-decoration-color: #7f7f7f\">               </span>\n",
       "</pre>\n"
      ],
      "text/plain": [
       "\u001b[2;36m                   \u001b[0m\u001b[2;36m \u001b[0m\u001b[1;38;2;0;105;255mINFO    \u001b[0m Creating endpoint-config with name                                     \u001b]8;id=505702;file:///home/ec2-user/anaconda3/envs/tensorflow2_p310/lib/python3.10/site-packages/sagemaker/session.py\u001b\\\u001b[2msession.py\u001b[0m\u001b]8;;\u001b\\\u001b[2m:\u001b[0m\u001b]8;id=782132;file:///home/ec2-user/anaconda3/envs/tensorflow2_p310/lib/python3.10/site-packages/sagemaker/session.py#6019\u001b\\\u001b[2m6019\u001b[0m\u001b]8;;\u001b\\\n",
       "\u001b[2;36m                    \u001b[0m         sklearn-clf-tuner-\u001b[1;36m2025\u001b[0m-04-23-11-15-16-971                              \u001b[2m               \u001b[0m\n"
      ]
     },
     "metadata": {},
     "output_type": "display_data"
    },
    {
     "data": {
      "text/html": [
       "<pre style=\"white-space:pre;overflow-x:auto;line-height:normal;font-family:Menlo,'DejaVu Sans Mono',consolas,'Courier New',monospace\"><span style=\"color: #7fbfbf; text-decoration-color: #7fbfbf\">                    </span><span style=\"color: #0069ff; text-decoration-color: #0069ff; font-weight: bold\">INFO    </span> Creating endpoint with name sklearn-clf-tuner-<span style=\"color: #008080; text-decoration-color: #008080; font-weight: bold\">2025</span>-04-23-11-15-16-971  <a href=\"file:///home/ec2-user/anaconda3/envs/tensorflow2_p310/lib/python3.10/site-packages/sagemaker/session.py\" target=\"_blank\"><span style=\"color: #7f7f7f; text-decoration-color: #7f7f7f\">session.py</span></a><span style=\"color: #7f7f7f; text-decoration-color: #7f7f7f\">:</span><a href=\"file:///home/ec2-user/anaconda3/envs/tensorflow2_p310/lib/python3.10/site-packages/sagemaker/session.py#4841\" target=\"_blank\"><span style=\"color: #7f7f7f; text-decoration-color: #7f7f7f\">4841</span></a>\n",
       "</pre>\n"
      ],
      "text/plain": [
       "\u001b[2;36m                   \u001b[0m\u001b[2;36m \u001b[0m\u001b[1;38;2;0;105;255mINFO    \u001b[0m Creating endpoint with name sklearn-clf-tuner-\u001b[1;36m2025\u001b[0m-04-23-11-15-16-971  \u001b]8;id=636077;file:///home/ec2-user/anaconda3/envs/tensorflow2_p310/lib/python3.10/site-packages/sagemaker/session.py\u001b\\\u001b[2msession.py\u001b[0m\u001b]8;;\u001b\\\u001b[2m:\u001b[0m\u001b]8;id=508746;file:///home/ec2-user/anaconda3/envs/tensorflow2_p310/lib/python3.10/site-packages/sagemaker/session.py#4841\u001b\\\u001b[2m4841\u001b[0m\u001b]8;;\u001b\\\n"
      ]
     },
     "metadata": {},
     "output_type": "display_data"
    },
    {
     "name": "stdout",
     "output_type": "stream",
     "text": [
      "---------!\n",
      "2025-04-23 11:13:04 Starting - Found matching resource for reuse\n",
      "2025-04-23 11:13:04 Downloading - Downloading the training image\n",
      "2025-04-23 11:13:04 Training - Training image download completed. Training in progress.\n",
      "2025-04-23 11:13:04 Uploading - Uploading generated training model\n",
      "2025-04-23 11:13:04 Completed - Resource released due to keep alive period expiry\n"
     ]
    },
    {
     "data": {
      "text/html": [
       "<pre style=\"white-space:pre;overflow-x:auto;line-height:normal;font-family:Menlo,'DejaVu Sans Mono',consolas,'Courier New',monospace\"><span style=\"color: #7fbfbf; text-decoration-color: #7fbfbf\">[04/23/25 11:20:24] </span><span style=\"color: #0069ff; text-decoration-color: #0069ff; font-weight: bold\">INFO    </span> Creating model with name: sklearn-clf-tuner-<span style=\"color: #008080; text-decoration-color: #008080; font-weight: bold\">2025</span>-04-23-11-20-24-809    <a href=\"file:///home/ec2-user/anaconda3/envs/tensorflow2_p310/lib/python3.10/site-packages/sagemaker/session.py\" target=\"_blank\"><span style=\"color: #7f7f7f; text-decoration-color: #7f7f7f\">session.py</span></a><span style=\"color: #7f7f7f; text-decoration-color: #7f7f7f\">:</span><a href=\"file:///home/ec2-user/anaconda3/envs/tensorflow2_p310/lib/python3.10/site-packages/sagemaker/session.py#4094\" target=\"_blank\"><span style=\"color: #7f7f7f; text-decoration-color: #7f7f7f\">4094</span></a>\n",
       "</pre>\n"
      ],
      "text/plain": [
       "\u001b[2;36m[04/23/25 11:20:24]\u001b[0m\u001b[2;36m \u001b[0m\u001b[1;38;2;0;105;255mINFO    \u001b[0m Creating model with name: sklearn-clf-tuner-\u001b[1;36m2025\u001b[0m-04-23-11-20-24-809    \u001b]8;id=808967;file:///home/ec2-user/anaconda3/envs/tensorflow2_p310/lib/python3.10/site-packages/sagemaker/session.py\u001b\\\u001b[2msession.py\u001b[0m\u001b]8;;\u001b\\\u001b[2m:\u001b[0m\u001b]8;id=983396;file:///home/ec2-user/anaconda3/envs/tensorflow2_p310/lib/python3.10/site-packages/sagemaker/session.py#4094\u001b\\\u001b[2m4094\u001b[0m\u001b]8;;\u001b\\\n"
      ]
     },
     "metadata": {},
     "output_type": "display_data"
    },
    {
     "data": {
      "text/html": [
       "<pre style=\"white-space:pre;overflow-x:auto;line-height:normal;font-family:Menlo,'DejaVu Sans Mono',consolas,'Courier New',monospace\"><span style=\"color: #7fbfbf; text-decoration-color: #7fbfbf\">[04/23/25 11:20:25] </span><span style=\"color: #0069ff; text-decoration-color: #0069ff; font-weight: bold\">INFO    </span> Creating endpoint-config with name                                     <a href=\"file:///home/ec2-user/anaconda3/envs/tensorflow2_p310/lib/python3.10/site-packages/sagemaker/session.py\" target=\"_blank\"><span style=\"color: #7f7f7f; text-decoration-color: #7f7f7f\">session.py</span></a><span style=\"color: #7f7f7f; text-decoration-color: #7f7f7f\">:</span><a href=\"file:///home/ec2-user/anaconda3/envs/tensorflow2_p310/lib/python3.10/site-packages/sagemaker/session.py#6019\" target=\"_blank\"><span style=\"color: #7f7f7f; text-decoration-color: #7f7f7f\">6019</span></a>\n",
       "<span style=\"color: #7fbfbf; text-decoration-color: #7fbfbf\">                    </span>         sklearn-clf-tuner-<span style=\"color: #008080; text-decoration-color: #008080; font-weight: bold\">250423</span>-<span style=\"color: #008080; text-decoration-color: #008080; font-weight: bold\">1105</span>-<span style=\"color: #008080; text-decoration-color: #008080; font-weight: bold\">041</span>-7a63201a                             <span style=\"color: #7f7f7f; text-decoration-color: #7f7f7f\">               </span>\n",
       "</pre>\n"
      ],
      "text/plain": [
       "\u001b[2;36m[04/23/25 11:20:25]\u001b[0m\u001b[2;36m \u001b[0m\u001b[1;38;2;0;105;255mINFO    \u001b[0m Creating endpoint-config with name                                     \u001b]8;id=933990;file:///home/ec2-user/anaconda3/envs/tensorflow2_p310/lib/python3.10/site-packages/sagemaker/session.py\u001b\\\u001b[2msession.py\u001b[0m\u001b]8;;\u001b\\\u001b[2m:\u001b[0m\u001b]8;id=120070;file:///home/ec2-user/anaconda3/envs/tensorflow2_p310/lib/python3.10/site-packages/sagemaker/session.py#6019\u001b\\\u001b[2m6019\u001b[0m\u001b]8;;\u001b\\\n",
       "\u001b[2;36m                    \u001b[0m         sklearn-clf-tuner-\u001b[1;36m250423\u001b[0m-\u001b[1;36m1105\u001b[0m-\u001b[1;36m041\u001b[0m-7a63201a                             \u001b[2m               \u001b[0m\n"
      ]
     },
     "metadata": {},
     "output_type": "display_data"
    },
    {
     "data": {
      "text/html": [
       "<pre style=\"white-space:pre;overflow-x:auto;line-height:normal;font-family:Menlo,'DejaVu Sans Mono',consolas,'Courier New',monospace\"><span style=\"color: #7fbfbf; text-decoration-color: #7fbfbf\">                    </span><span style=\"color: #0069ff; text-decoration-color: #0069ff; font-weight: bold\">INFO    </span> Creating endpoint with name sklearn-clf-tuner-<span style=\"color: #008080; text-decoration-color: #008080; font-weight: bold\">250423</span>-<span style=\"color: #008080; text-decoration-color: #008080; font-weight: bold\">1105</span>-<span style=\"color: #008080; text-decoration-color: #008080; font-weight: bold\">041</span>-7a63201a <a href=\"file:///home/ec2-user/anaconda3/envs/tensorflow2_p310/lib/python3.10/site-packages/sagemaker/session.py\" target=\"_blank\"><span style=\"color: #7f7f7f; text-decoration-color: #7f7f7f\">session.py</span></a><span style=\"color: #7f7f7f; text-decoration-color: #7f7f7f\">:</span><a href=\"file:///home/ec2-user/anaconda3/envs/tensorflow2_p310/lib/python3.10/site-packages/sagemaker/session.py#4841\" target=\"_blank\"><span style=\"color: #7f7f7f; text-decoration-color: #7f7f7f\">4841</span></a>\n",
       "</pre>\n"
      ],
      "text/plain": [
       "\u001b[2;36m                   \u001b[0m\u001b[2;36m \u001b[0m\u001b[1;38;2;0;105;255mINFO    \u001b[0m Creating endpoint with name sklearn-clf-tuner-\u001b[1;36m250423\u001b[0m-\u001b[1;36m1105\u001b[0m-\u001b[1;36m041\u001b[0m-7a63201a \u001b]8;id=219862;file:///home/ec2-user/anaconda3/envs/tensorflow2_p310/lib/python3.10/site-packages/sagemaker/session.py\u001b\\\u001b[2msession.py\u001b[0m\u001b]8;;\u001b\\\u001b[2m:\u001b[0m\u001b]8;id=605026;file:///home/ec2-user/anaconda3/envs/tensorflow2_p310/lib/python3.10/site-packages/sagemaker/session.py#4841\u001b\\\u001b[2m4841\u001b[0m\u001b]8;;\u001b\\\n"
      ]
     },
     "metadata": {},
     "output_type": "display_data"
    },
    {
     "name": "stdout",
     "output_type": "stream",
     "text": [
      "---------!Endpoint Name: sklearn-clf-tuner-250423-1105-041-7a63201a\n"
     ]
    }
   ],
   "source": [
    "# Deploy the best model found by the tuner\n",
    "# sklearn_estimator.latest_training_job.wait(logs=\"None\") # This applies to the base estimator, not the tuner\n",
    "tuner.best_estimator().deploy(\n",
    "    initial_instance_count=1,\n",
    "    instance_type=\"ml.m5.large\" # Use an appropriate instance type for inference\n",
    ")\n",
    "\n",
    "# Get the predictor from the tuner's deployment\n",
    "predictor = tuner.deploy(\n",
    "    initial_instance_count=1,\n",
    "    instance_type=\"ml.m5.large\",\n",
    "    # You might need to specify the serializer/deserializer if defaults aren't right\n",
    "    # serializer=sagemaker.serializers.CSVSerializer(),\n",
    "    # deserializer=sagemaker.deserializers.JSONDeserializer()\n",
    ")\n",
    "print(f\"Endpoint Name: {predictor.endpoint_name}\")"
   ]
  },
  {
   "cell_type": "markdown",
   "metadata": {},
   "source": [
    "### Invoke with the Python SDK"
   ]
  },
  {
   "cell_type": "code",
   "execution_count": null,
   "metadata": {},
   "outputs": [],
   "source": [
    "# Use the test_df and feature_names defined in cell 55792196\n",
    "# Ensure the predictor object is correctly assigned (from tuner.deploy or model.deploy)\n",
    "\n",
    "# Select only the feature columns from the test set\n",
    "test_features = test_df[feature_names]\n",
    "\n",
    "# the SKLearnPredictor does the serialization from pandas for us by default\n",
    "predictions = predictor.predict(test_features)\n",
    "print(predictions)"
   ]
  },
  {
   "cell_type": "code",
   "execution_count": null,
   "metadata": {},
   "outputs": [],
   "source": [
    "runtime = boto3.client(\"sagemaker-runtime\")"
   ]
  },
  {
   "cell_type": "markdown",
   "metadata": {},
   "source": [
    "#### Option 1: `csv` serialization"
   ]
  },
  {
   "cell_type": "code",
   "execution_count": null,
   "metadata": {},
   "outputs": [],
   "source": [
    "# csv serialization\n",
    "# Use the test_df and feature_names defined in cell 55792196\n",
    "# Ensure the predictor object is correctly assigned\n",
    "response = runtime.invoke_endpoint(\n",
    "    EndpointName=predictor.endpoint_name, # Use endpoint_name attribute\n",
    "    Body=test_df[feature_names].to_csv(header=False, index=False).encode(\"utf-8\"),\n",
    "    ContentType=\"text/csv\",\n",
    ")\n",
    "\n",
    "print(response[\"Body\"].read().decode()) # Decode the response"
   ]
  },
  {
   "cell_type": "markdown",
   "metadata": {},
   "source": [
    "#### Option 2: `npy` serialization"
   ]
  },
  {
   "cell_type": "code",
   "execution_count": null,
   "metadata": {},
   "outputs": [],
   "source": [
    "# npy serialization\n",
    "from io import BytesIO\n",
    "\n",
    "# Use the test_df and feature_names defined in cell 55792196\n",
    "# Ensure the predictor object is correctly assigned\n",
    "\n",
    "# Serialise numpy ndarray as bytes\n",
    "buffer = BytesIO()\n",
    "np.save(buffer, test_df[feature_names].values)\n",
    "buffer.seek(0) # Reset buffer position\n",
    "\n",
    "response = runtime.invoke_endpoint(\n",
    "    EndpointName=predictor.endpoint_name, # Use endpoint_name attribute\n",
    "    Body=buffer.getvalue(), \n",
    "    ContentType=\"application/x-npy\"\n",
    ")\n",
    "\n",
    "print(response[\"Body\"].read().decode()) # Decode the response"
   ]
  },
  {
   "cell_type": "markdown",
   "metadata": {},
   "source": [
    "## Don't forget to delete the endpoint !"
   ]
  },
  {
   "cell_type": "code",
   "execution_count": null,
   "metadata": {},
   "outputs": [],
   "source": [
    "# Ensure the predictor object is correctly assigned\n",
    "print(f\"Deleting endpoint: {predictor.endpoint_name}\")\n",
    "predictor.delete_endpoint()"
   ]
  }
 ],
 "metadata": {
  "kernelspec": {
   "display_name": "conda_tensorflow2_p310",
   "language": "python",
   "name": "conda_tensorflow2_p310"
  },
  "language_info": {
   "codemirror_mode": {
    "name": "ipython",
    "version": 3
   },
   "file_extension": ".py",
   "mimetype": "text/x-python",
   "name": "python",
   "nbconvert_exporter": "python",
   "pygments_lexer": "ipython3",
   "version": "3.10.16"
  }
 },
 "nbformat": 4,
 "nbformat_minor": 4
}
